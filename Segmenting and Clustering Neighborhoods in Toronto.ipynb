{
    "cells": [
        {
            "cell_type": "code",
            "execution_count": 4,
            "metadata": {},
            "outputs": [
                {
                    "name": "stdout",
                    "output_type": "stream",
                    "text": "Solving environment: done\n\n## Package Plan ##\n\n  environment location: /opt/conda/envs/Python36\n\n  added / updated specs: \n    - folium=0.5.0\n\n\nThe following packages will be downloaded:\n\n    package                    |            build\n    ---------------------------|-----------------\n    altair-4.1.0               |             py_1         614 KB  conda-forge\n    python_abi-3.6             |          1_cp36m           4 KB  conda-forge\n    openssl-1.1.1f             |       h516909a_0         2.1 MB  conda-forge\n    vincent-0.4.4              |             py_1          28 KB  conda-forge\n    branca-0.4.0               |             py_0          26 KB  conda-forge\n    folium-0.5.0               |             py_0          45 KB  conda-forge\n    ca-certificates-2020.4.5.1 |       hecc5488_0         146 KB  conda-forge\n    certifi-2020.4.5.1         |   py36h9f0ad1d_0         151 KB  conda-forge\n    ------------------------------------------------------------\n                                           Total:         3.1 MB\n\nThe following NEW packages will be INSTALLED:\n\n    altair:          4.1.0-py_1        conda-forge\n    branca:          0.4.0-py_0        conda-forge\n    folium:          0.5.0-py_0        conda-forge\n    python_abi:      3.6-1_cp36m       conda-forge\n    vincent:         0.4.4-py_1        conda-forge\n\nThe following packages will be UPDATED:\n\n    ca-certificates: 2020.1.1-0                    --> 2020.4.5.1-hecc5488_0     conda-forge\n    certifi:         2020.4.5.1-py36_0             --> 2020.4.5.1-py36h9f0ad1d_0 conda-forge\n    openssl:         1.1.1f-h7b6447c_0             --> 1.1.1f-h516909a_0         conda-forge\n\n\nDownloading and Extracting Packages\naltair-4.1.0         | 614 KB    | ##################################### | 100% \npython_abi-3.6       | 4 KB      | ##################################### | 100% \nopenssl-1.1.1f       | 2.1 MB    | ##################################### | 100% \nvincent-0.4.4        | 28 KB     | ##################################### | 100% \nbranca-0.4.0         | 26 KB     | ##################################### | 100% \nfolium-0.5.0         | 45 KB     | ##################################### | 100% \nca-certificates-2020 | 146 KB    | ##################################### | 100% \ncertifi-2020.4.5.1   | 151 KB    | ##################################### | 100% \nPreparing transaction: done\nVerifying transaction: done\nExecuting transaction: done\nLibraries imported.\n"
                }
            ],
            "source": "import numpy as np # library to handle data in a vectorized manner\n\nfrom bs4 import BeautifulSoup\nimport requests\nimport numpy as np\nimport pandas as pd\nfrom geopy.geocoders import Nominatim\n!conda install -c conda-forge folium=0.5.0 --yes # uncomment this line if you haven't completed the Foursquare API lab\nimport folium # map rendering library\n\nprint('Libraries imported.')"
        },
        {
            "cell_type": "code",
            "execution_count": 5,
            "metadata": {},
            "outputs": [
                {
                    "name": "stdout",
                    "output_type": "stream",
                    "text": "https://en.wikipedia.org/wiki/List_of_postal_codes_of_Canada:_M\n200\n{'Date': 'Sun, 19 Apr 2020 19:34:41 GMT', 'Vary': 'Accept-Encoding,Cookie,Authorization', 'Server': 'ATS/8.0.7', 'Content-Type': 'text/html; charset=UTF-8', 'X-Content-Type-Options': 'nosniff', 'P3P': 'CP=\"See https://en.wikipedia.org/wiki/Special:CentralAutoLogin/P3P for more info.\"', 'Content-language': 'en', 'Last-Modified': 'Sat, 18 Apr 2020 18:27:33 GMT', 'Content-Encoding': 'gzip', 'Age': '45016', 'X-Cache': 'cp1081 hit, cp1083 hit/96', 'X-Cache-Status': 'hit-front', 'Server-Timing': 'cache;desc=\"hit-front\"', 'Strict-Transport-Security': 'max-age=106384710; includeSubDomains; preload', 'Set-Cookie': 'WMF-Last-Access=20-Apr-2020;Path=/;HttpOnly;secure;Expires=Fri, 22 May 2020 00:00:00 GMT, WMF-Last-Access-Global=20-Apr-2020;Path=/;Domain=.wikipedia.org;HttpOnly;secure;Expires=Fri, 22 May 2020 00:00:00 GMT, GeoIP=GB:ENG:London:51.44:-0.18:v4; Path=/; secure; Domain=.wikipedia.org', 'X-Client-IP': '158.176.106.109', 'Cache-Control': 'private, s-maxage=0, max-age=0, must-revalidate', 'Accept-Ranges': 'bytes', 'Content-Length': '12954', 'Connection': 'keep-alive'}\n"
                }
            ],
            "source": "url = 'https://en.wikipedia.org/wiki/List_of_postal_codes_of_Canada:_M'\nresult = requests.get(url)\nprint(url)\nprint(result.status_code)\nprint(result.headers)"
        },
        {
            "cell_type": "code",
            "execution_count": 6,
            "metadata": {},
            "outputs": [],
            "source": "soup = BeautifulSoup(result.content, 'html.parser')\ntable = soup.find('table')\ntrs = table.find_all('tr')\nrows = []\nfor tr in trs:\n    i = tr.find_all('td')\n    if i:\n        rows.append(i)\n        \nlst = []\nfor row in rows:\n    postalcode = row[0].text.rstrip()\n    borough = row[1].text.rstrip()\n    neighborhood = row[2].text.rstrip()\n    if borough != 'Not assigned':\n        if neighborhood == 'Not assigned':\n            neighborhood = borough\n        lst.append([postalcode, borough, neighborhood])\n\n# lst"
        },
        {
            "cell_type": "code",
            "execution_count": 7,
            "metadata": {},
            "outputs": [
                {
                    "name": "stdout",
                    "output_type": "stream",
                    "text": "(103, 3)\n"
                }
            ],
            "source": "cols = ['PostalCode', 'Borough', 'Neighborhood']\ndf = pd.DataFrame(lst, columns=cols)\nprint(df.shape)\n# df[df.duplicated(['PostalCode'], keep=False)] - this would have shown the duplicate PostalCodes"
        },
        {
            "cell_type": "code",
            "execution_count": 8,
            "metadata": {},
            "outputs": [],
            "source": "df = df.groupby('PostalCode').agg(\n    {\n        'Borough':'first', \n        'Neighborhood': ', '.join,}\n    ).reset_index()\n\n# could have done:\n# df = df.groupby(['Postcode', 'Borough'], as_index=False).agg(lambda neighborhoods: ', '.join(neighborhoods))"
        },
        {
            "cell_type": "code",
            "execution_count": 9,
            "metadata": {},
            "outputs": [
                {
                    "data": {
                        "text/html": "<div>\n<style scoped>\n    .dataframe tbody tr th:only-of-type {\n        vertical-align: middle;\n    }\n\n    .dataframe tbody tr th {\n        vertical-align: top;\n    }\n\n    .dataframe thead th {\n        text-align: right;\n    }\n</style>\n<table border=\"1\" class=\"dataframe\">\n  <thead>\n    <tr style=\"text-align: right;\">\n      <th></th>\n      <th>PostalCode</th>\n      <th>Borough</th>\n      <th>Neighborhood</th>\n    </tr>\n  </thead>\n  <tbody>\n    <tr>\n      <th>53</th>\n      <td>M5A</td>\n      <td>Downtown Toronto</td>\n      <td>Regent Park / Harbourfront</td>\n    </tr>\n  </tbody>\n</table>\n</div>",
                        "text/plain": "   PostalCode           Borough                Neighborhood\n53        M5A  Downtown Toronto  Regent Park / Harbourfront"
                    },
                    "execution_count": 9,
                    "metadata": {},
                    "output_type": "execute_result"
                }
            ],
            "source": "df.loc[df['PostalCode'] == 'M5A']"
        },
        {
            "cell_type": "code",
            "execution_count": 10,
            "metadata": {},
            "outputs": [
                {
                    "data": {
                        "text/plain": "(103, 3)"
                    },
                    "execution_count": 10,
                    "metadata": {},
                    "output_type": "execute_result"
                }
            ],
            "source": "df.shape"
        },
        {
            "cell_type": "code",
            "execution_count": 13,
            "metadata": {},
            "outputs": [
                {
                    "name": "stdout",
                    "output_type": "stream",
                    "text": "--2020-04-20 08:12:02--  http://cocl.us/Geospatial_data/\nResolving cocl.us (cocl.us)... 159.8.69.24, 159.8.69.21, 159.8.72.228\nConnecting to cocl.us (cocl.us)|159.8.69.24|:80... connected.\nHTTP request sent, awaiting response... 301 Moved Permanently\nLocation: https://cocl.us/Geospatial_data/ [following]\n--2020-04-20 08:12:02--  https://cocl.us/Geospatial_data/\nConnecting to cocl.us (cocl.us)|159.8.69.24|:443... connected.\nHTTP request sent, awaiting response... 301 Moved Permanently\nLocation: https://ibm.box.com/shared/static/9afzr83pps4pwf2smjjcf1y5mvgb18rr.csv [following]\n--2020-04-20 08:12:03--  https://ibm.box.com/shared/static/9afzr83pps4pwf2smjjcf1y5mvgb18rr.csv\nResolving ibm.box.com (ibm.box.com)... 185.235.236.197\nConnecting to ibm.box.com (ibm.box.com)|185.235.236.197|:443... connected.\nHTTP request sent, awaiting response... 301 Moved Permanently\nLocation: /public/static/9afzr83pps4pwf2smjjcf1y5mvgb18rr.csv [following]\n--2020-04-20 08:12:03--  https://ibm.box.com/public/static/9afzr83pps4pwf2smjjcf1y5mvgb18rr.csv\nReusing existing connection to ibm.box.com:443.\nHTTP request sent, awaiting response... 301 Moved Permanently\nLocation: https://ibm.ent.box.com/public/static/9afzr83pps4pwf2smjjcf1y5mvgb18rr.csv [following]\n--2020-04-20 08:12:03--  https://ibm.ent.box.com/public/static/9afzr83pps4pwf2smjjcf1y5mvgb18rr.csv\nResolving ibm.ent.box.com (ibm.ent.box.com)... 185.235.236.211\nConnecting to ibm.ent.box.com (ibm.ent.box.com)|185.235.236.211|:443... connected.\nHTTP request sent, awaiting response... 302 Found\nLocation: https://public.boxcloud.com/d/1/b1!xs7d88NsBYoQD9kHINL_KlqZqYMlMsY3fqEqHMM08tR0J_MW0imB8qqZAXHb6bngaLznDmKvuwFWVy_jb52PGNQCOCqu2eIB_aBC2ZNJLr-zzKXklEsSF5rAN_OD-0_JkYY7crrMREO329DWPZDRZusIyU_ZwTA8pURKnBaSUHyCxiyp-07IgaU-OyAXDKCgd4ZbTj8TuMElcnXKuvxy_iBkwoBav4Ytv7tL5jglfm-HREpWsdj3bSrAjnk1b08p1G9zYEqca9DO2_4u9OH4_9jdEZx_CrIWVXSdcvAnDtgmEniuP6NPoErxxbhhkFLhRL-ni5fFdaXDTMRjlXhpPDGB3c2LksS2nTaGme4fpyqtrcyGn0xOJH9BsXdUp19X5zvj_-rRJDJps-pWmF_ixyMsRQ2ZID1zhkm4hig1UeJ4iK6-LQnjLsgFqzLDd-y9DY-bvLMpBg9QR2FwMoSi36wok9XIeW3BM97bKT0iNWkpZ-7KJUrsS6uWUmmy0KUjKnR-TlVPpYVrZFky3ydgjf6MewV2cjO7j4aZ5GbEdnHoNNEOqiLhrO-8AZpbJe8d0lv7ujM189DgRrTZP7uiWR9yanPIGolINCY53w6oo6PwZGAKa66myJU_8F3iKpx-5Nazc10NpxzZw-l1f2H-eGvpiYYC066KGS0UHXBPMOsJYHLRQkAdZpAT7j0kOFPgLkeptAaKtO_r_4laNysbJTwKh4VFKfARbH9AtE02aTVU7suwZ0U8FjSUH7vs6GpHoRab-ZAHdSNvNW3r7N4KvBBLnTFDpQTgjh9_G16zdWA_ivGOh9gT6KhZu9I14gqIDT--hJic6Si4aGuiYwj09wrZgrz3uqCAkMmXYr79MU3GXLyY5EHNHn-xBjvAN9yZcs0Zy-9dbiZKbwpdgHEln9MA-J1B5MvCBkWcWhoZppjVsuJrhGH8njds3Fn3LSmYaCIOrpBNyiZRVyKfX5Hc44NCavkTUO8JhDv2rcbITGQ2PTqu4v76xLHP0kG7iXpmKNdsvhpGPmNJ8y-ErpQ0TA3W7Qxgmy7Cot4DTKXWpCQ1inr2nkA02V9wZlHI2qTODemn09CpIsyYx_syzDhwoAh3YMko6_WMGvCgfwyhB2fLyf3hA-3xrCeboaNw5sTd_st-vXPC422QhTgt627nsfa1Z0cHj4e9ITtwp4gHE7v7hpAFAidRsgCbnk1GQ0ZbC3XOAuz5DMyrxMX_k7bnEdpRtiViDmXNAwMIRh_2JfKM9ISO5dDplfBLYasxrD6QgCFzZPLk1Uey4CQ_DAhJogdyYKcLQWpCdOQBHCzhT1kY8BezerN7F7erNraWs3Y6MLmHe2Y0teHn6VD-_aJu_6E84DYFPDA6P-maVB4ShfzVSuQ0lqblNXPm9Nl_WqQ7PYHJ9S37qjZMHkkHOrdSGZSISZH55cffavKyUOI7xQW21yY./download [following]\n--2020-04-20 08:12:04--  https://public.boxcloud.com/d/1/b1!xs7d88NsBYoQD9kHINL_KlqZqYMlMsY3fqEqHMM08tR0J_MW0imB8qqZAXHb6bngaLznDmKvuwFWVy_jb52PGNQCOCqu2eIB_aBC2ZNJLr-zzKXklEsSF5rAN_OD-0_JkYY7crrMREO329DWPZDRZusIyU_ZwTA8pURKnBaSUHyCxiyp-07IgaU-OyAXDKCgd4ZbTj8TuMElcnXKuvxy_iBkwoBav4Ytv7tL5jglfm-HREpWsdj3bSrAjnk1b08p1G9zYEqca9DO2_4u9OH4_9jdEZx_CrIWVXSdcvAnDtgmEniuP6NPoErxxbhhkFLhRL-ni5fFdaXDTMRjlXhpPDGB3c2LksS2nTaGme4fpyqtrcyGn0xOJH9BsXdUp19X5zvj_-rRJDJps-pWmF_ixyMsRQ2ZID1zhkm4hig1UeJ4iK6-LQnjLsgFqzLDd-y9DY-bvLMpBg9QR2FwMoSi36wok9XIeW3BM97bKT0iNWkpZ-7KJUrsS6uWUmmy0KUjKnR-TlVPpYVrZFky3ydgjf6MewV2cjO7j4aZ5GbEdnHoNNEOqiLhrO-8AZpbJe8d0lv7ujM189DgRrTZP7uiWR9yanPIGolINCY53w6oo6PwZGAKa66myJU_8F3iKpx-5Nazc10NpxzZw-l1f2H-eGvpiYYC066KGS0UHXBPMOsJYHLRQkAdZpAT7j0kOFPgLkeptAaKtO_r_4laNysbJTwKh4VFKfARbH9AtE02aTVU7suwZ0U8FjSUH7vs6GpHoRab-ZAHdSNvNW3r7N4KvBBLnTFDpQTgjh9_G16zdWA_ivGOh9gT6KhZu9I14gqIDT--hJic6Si4aGuiYwj09wrZgrz3uqCAkMmXYr79MU3GXLyY5EHNHn-xBjvAN9yZcs0Zy-9dbiZKbwpdgHEln9MA-J1B5MvCBkWcWhoZppjVsuJrhGH8njds3Fn3LSmYaCIOrpBNyiZRVyKfX5Hc44NCavkTUO8JhDv2rcbITGQ2PTqu4v76xLHP0kG7iXpmKNdsvhpGPmNJ8y-ErpQ0TA3W7Qxgmy7Cot4DTKXWpCQ1inr2nkA02V9wZlHI2qTODemn09CpIsyYx_syzDhwoAh3YMko6_WMGvCgfwyhB2fLyf3hA-3xrCeboaNw5sTd_st-vXPC422QhTgt627nsfa1Z0cHj4e9ITtwp4gHE7v7hpAFAidRsgCbnk1GQ0ZbC3XOAuz5DMyrxMX_k7bnEdpRtiViDmXNAwMIRh_2JfKM9ISO5dDplfBLYasxrD6QgCFzZPLk1Uey4CQ_DAhJogdyYKcLQWpCdOQBHCzhT1kY8BezerN7F7erNraWs3Y6MLmHe2Y0teHn6VD-_aJu_6E84DYFPDA6P-maVB4ShfzVSuQ0lqblNXPm9Nl_WqQ7PYHJ9S37qjZMHkkHOrdSGZSISZH55cffavKyUOI7xQW21yY./download\nResolving public.boxcloud.com (public.boxcloud.com)... 185.235.236.200\nConnecting to public.boxcloud.com (public.boxcloud.com)|185.235.236.200|:443... connected.\nHTTP request sent, awaiting response... 200 OK\nLength: 2891 (2.8K) [text/csv]\nSaving to: \u2018GeoCord.csv\u2019\n\n100%[======================================>] 2,891       --.-K/s   in 0s      \n\n2020-04-20 08:12:04 (233 MB/s) - \u2018GeoCord.csv\u2019 saved [2891/2891]\n\n"
                }
            ],
            "source": "# Since it is not able to obtain coordinates from using geocoder.google, the given csv file is used\n!wget -O GeoCord.csv http://cocl.us/Geospatial_data/"
        },
        {
            "cell_type": "code",
            "execution_count": 14,
            "metadata": {},
            "outputs": [
                {
                    "data": {
                        "text/html": "<div>\n<style scoped>\n    .dataframe tbody tr th:only-of-type {\n        vertical-align: middle;\n    }\n\n    .dataframe tbody tr th {\n        vertical-align: top;\n    }\n\n    .dataframe thead th {\n        text-align: right;\n    }\n</style>\n<table border=\"1\" class=\"dataframe\">\n  <thead>\n    <tr style=\"text-align: right;\">\n      <th></th>\n      <th>Postal Code</th>\n      <th>Latitude</th>\n      <th>Longitude</th>\n    </tr>\n  </thead>\n  <tbody>\n    <tr>\n      <th>0</th>\n      <td>M1B</td>\n      <td>43.806686</td>\n      <td>-79.194353</td>\n    </tr>\n    <tr>\n      <th>1</th>\n      <td>M1C</td>\n      <td>43.784535</td>\n      <td>-79.160497</td>\n    </tr>\n    <tr>\n      <th>2</th>\n      <td>M1E</td>\n      <td>43.763573</td>\n      <td>-79.188711</td>\n    </tr>\n    <tr>\n      <th>3</th>\n      <td>M1G</td>\n      <td>43.770992</td>\n      <td>-79.216917</td>\n    </tr>\n    <tr>\n      <th>4</th>\n      <td>M1H</td>\n      <td>43.773136</td>\n      <td>-79.239476</td>\n    </tr>\n  </tbody>\n</table>\n</div>",
                        "text/plain": "  Postal Code   Latitude  Longitude\n0         M1B  43.806686 -79.194353\n1         M1C  43.784535 -79.160497\n2         M1E  43.763573 -79.188711\n3         M1G  43.770992 -79.216917\n4         M1H  43.773136 -79.239476"
                    },
                    "execution_count": 14,
                    "metadata": {},
                    "output_type": "execute_result"
                }
            ],
            "source": "df_cord = pd.read_csv('GeoCord.csv') # Read the csv data\ndf_cord.head()"
        },
        {
            "cell_type": "code",
            "execution_count": 21,
            "metadata": {},
            "outputs": [
                {
                    "data": {
                        "text/html": "<div>\n<style scoped>\n    .dataframe tbody tr th:only-of-type {\n        vertical-align: middle;\n    }\n\n    .dataframe tbody tr th {\n        vertical-align: top;\n    }\n\n    .dataframe thead th {\n        text-align: right;\n    }\n</style>\n<table border=\"1\" class=\"dataframe\">\n  <thead>\n    <tr style=\"text-align: right;\">\n      <th></th>\n      <th>PostalCode</th>\n      <th>Borough</th>\n      <th>Neighborhood</th>\n      <th>Latitude</th>\n      <th>Longitude</th>\n    </tr>\n  </thead>\n  <tbody>\n    <tr>\n      <th>0</th>\n      <td>M1B</td>\n      <td>Scarborough</td>\n      <td>Malvern / Rouge</td>\n      <td>NaN</td>\n      <td>NaN</td>\n    </tr>\n    <tr>\n      <th>1</th>\n      <td>M1C</td>\n      <td>Scarborough</td>\n      <td>Rouge Hill / Port Union / Highland Creek</td>\n      <td>NaN</td>\n      <td>NaN</td>\n    </tr>\n    <tr>\n      <th>2</th>\n      <td>M1E</td>\n      <td>Scarborough</td>\n      <td>Guildwood / Morningside / West Hill</td>\n      <td>NaN</td>\n      <td>NaN</td>\n    </tr>\n    <tr>\n      <th>3</th>\n      <td>M1G</td>\n      <td>Scarborough</td>\n      <td>Woburn</td>\n      <td>NaN</td>\n      <td>NaN</td>\n    </tr>\n    <tr>\n      <th>4</th>\n      <td>M1H</td>\n      <td>Scarborough</td>\n      <td>Cedarbrae</td>\n      <td>NaN</td>\n      <td>NaN</td>\n    </tr>\n    <tr>\n      <th>5</th>\n      <td>M1J</td>\n      <td>Scarborough</td>\n      <td>Scarborough Village</td>\n      <td>NaN</td>\n      <td>NaN</td>\n    </tr>\n    <tr>\n      <th>6</th>\n      <td>M1K</td>\n      <td>Scarborough</td>\n      <td>Kennedy Park / Ionview / East Birchmount Park</td>\n      <td>NaN</td>\n      <td>NaN</td>\n    </tr>\n    <tr>\n      <th>7</th>\n      <td>M1L</td>\n      <td>Scarborough</td>\n      <td>Golden Mile / Clairlea / Oakridge</td>\n      <td>NaN</td>\n      <td>NaN</td>\n    </tr>\n    <tr>\n      <th>8</th>\n      <td>M1M</td>\n      <td>Scarborough</td>\n      <td>Cliffside / Cliffcrest / Scarborough Village West</td>\n      <td>NaN</td>\n      <td>NaN</td>\n    </tr>\n    <tr>\n      <th>9</th>\n      <td>M1N</td>\n      <td>Scarborough</td>\n      <td>Birch Cliff / Cliffside West</td>\n      <td>NaN</td>\n      <td>NaN</td>\n    </tr>\n    <tr>\n      <th>10</th>\n      <td>M1P</td>\n      <td>Scarborough</td>\n      <td>Dorset Park / Wexford Heights / Scarborough To...</td>\n      <td>NaN</td>\n      <td>NaN</td>\n    </tr>\n    <tr>\n      <th>11</th>\n      <td>M1R</td>\n      <td>Scarborough</td>\n      <td>Wexford / Maryvale</td>\n      <td>NaN</td>\n      <td>NaN</td>\n    </tr>\n    <tr>\n      <th>12</th>\n      <td>M1S</td>\n      <td>Scarborough</td>\n      <td>Agincourt</td>\n      <td>NaN</td>\n      <td>NaN</td>\n    </tr>\n    <tr>\n      <th>13</th>\n      <td>M1T</td>\n      <td>Scarborough</td>\n      <td>Clarks Corners / Tam O'Shanter / Sullivan</td>\n      <td>NaN</td>\n      <td>NaN</td>\n    </tr>\n    <tr>\n      <th>14</th>\n      <td>M1V</td>\n      <td>Scarborough</td>\n      <td>Milliken / Agincourt North / Steeles East / L'...</td>\n      <td>NaN</td>\n      <td>NaN</td>\n    </tr>\n    <tr>\n      <th>15</th>\n      <td>M1W</td>\n      <td>Scarborough</td>\n      <td>Steeles West / L'Amoreaux West</td>\n      <td>NaN</td>\n      <td>NaN</td>\n    </tr>\n    <tr>\n      <th>16</th>\n      <td>M1X</td>\n      <td>Scarborough</td>\n      <td>Upper Rouge</td>\n      <td>NaN</td>\n      <td>NaN</td>\n    </tr>\n    <tr>\n      <th>17</th>\n      <td>M2H</td>\n      <td>North York</td>\n      <td>Hillcrest Village</td>\n      <td>NaN</td>\n      <td>NaN</td>\n    </tr>\n    <tr>\n      <th>18</th>\n      <td>M2J</td>\n      <td>North York</td>\n      <td>Fairview / Henry Farm / Oriole</td>\n      <td>NaN</td>\n      <td>NaN</td>\n    </tr>\n    <tr>\n      <th>19</th>\n      <td>M2K</td>\n      <td>North York</td>\n      <td>Bayview Village</td>\n      <td>NaN</td>\n      <td>NaN</td>\n    </tr>\n  </tbody>\n</table>\n</div>",
                        "text/plain": "   PostalCode      Borough                                       Neighborhood  \\\n0         M1B  Scarborough                                    Malvern / Rouge   \n1         M1C  Scarborough           Rouge Hill / Port Union / Highland Creek   \n2         M1E  Scarborough                Guildwood / Morningside / West Hill   \n3         M1G  Scarborough                                             Woburn   \n4         M1H  Scarborough                                          Cedarbrae   \n5         M1J  Scarborough                                Scarborough Village   \n6         M1K  Scarborough      Kennedy Park / Ionview / East Birchmount Park   \n7         M1L  Scarborough                  Golden Mile / Clairlea / Oakridge   \n8         M1M  Scarborough  Cliffside / Cliffcrest / Scarborough Village West   \n9         M1N  Scarborough                       Birch Cliff / Cliffside West   \n10        M1P  Scarborough  Dorset Park / Wexford Heights / Scarborough To...   \n11        M1R  Scarborough                                 Wexford / Maryvale   \n12        M1S  Scarborough                                          Agincourt   \n13        M1T  Scarborough          Clarks Corners / Tam O'Shanter / Sullivan   \n14        M1V  Scarborough  Milliken / Agincourt North / Steeles East / L'...   \n15        M1W  Scarborough                     Steeles West / L'Amoreaux West   \n16        M1X  Scarborough                                        Upper Rouge   \n17        M2H   North York                                  Hillcrest Village   \n18        M2J   North York                     Fairview / Henry Farm / Oriole   \n19        M2K   North York                                    Bayview Village   \n\n    Latitude  Longitude  \n0        NaN        NaN  \n1        NaN        NaN  \n2        NaN        NaN  \n3        NaN        NaN  \n4        NaN        NaN  \n5        NaN        NaN  \n6        NaN        NaN  \n7        NaN        NaN  \n8        NaN        NaN  \n9        NaN        NaN  \n10       NaN        NaN  \n11       NaN        NaN  \n12       NaN        NaN  \n13       NaN        NaN  \n14       NaN        NaN  \n15       NaN        NaN  \n16       NaN        NaN  \n17       NaN        NaN  \n18       NaN        NaN  \n19       NaN        NaN  "
                    },
                    "execution_count": 21,
                    "metadata": {},
                    "output_type": "execute_result"
                }
            ],
            "source": "# Create Latitude and Longitude columns in df_assigned\ndf_assigned['Latitude'] = np.nan\ndf_assigned['Longitude'] = np.nan\n\n# Display the results\ndf_assigned.head(20)"
        },
        {
            "cell_type": "code",
            "execution_count": null,
            "metadata": {},
            "outputs": [],
            "source": ""
        }
    ],
    "metadata": {
        "kernelspec": {
            "display_name": "Python 3.6",
            "language": "python",
            "name": "python3"
        },
        "language_info": {
            "codemirror_mode": {
                "name": "ipython",
                "version": 3
            },
            "file_extension": ".py",
            "mimetype": "text/x-python",
            "name": "python",
            "nbconvert_exporter": "python",
            "pygments_lexer": "ipython3",
            "version": "3.6.9"
        }
    },
    "nbformat": 4,
    "nbformat_minor": 1
}